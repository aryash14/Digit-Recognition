{
 "cells": [
  {
   "cell_type": "markdown",
   "metadata": {},
   "source": [
    "#### Imports"
   ]
  },
  {
   "cell_type": "code",
   "execution_count": 3,
   "metadata": {},
   "outputs": [],
   "source": [
    "import torch\n",
    "import torchvision\n",
    "from torchvision import transforms, datasets\n",
    "import torch.nn as nn\n",
    "import torch.nn.functional as F\n",
    "import matplotlib.pyplot as plt\n",
    "import numpy as np\n",
    "from NeuralNet import NeuralNet\n",
    "import torch.optim as optim\n",
    "import cv2"
   ]
  },
  {
   "cell_type": "markdown",
   "metadata": {},
   "source": [
    "##### Getting the train dataset"
   ]
  },
  {
   "cell_type": "code",
   "execution_count": 4,
   "metadata": {},
   "outputs": [],
   "source": [
    "train = datasets.MNIST('', train = True, download = True, transform = transforms.Compose(([transforms.ToTensor()])))\n",
    "train_set = torch.utils.data.DataLoader(train, batch_size= 10, shuffle = True)"
   ]
  },
  {
   "cell_type": "markdown",
   "metadata": {},
   "source": [
    "##### Setting the nn + loss function + optimizer"
   ]
  },
  {
   "cell_type": "code",
   "execution_count": 5,
   "metadata": {},
   "outputs": [],
   "source": [
    "net = NeuralNet()\n",
    "#loss function\n",
    "criterion = nn.CrossEntropyLoss()\n",
    "#all the parameters are controlled by this optimizer\n",
    "optimizer = optim.SGD(net.parameters(), lr = 0.001, momentum=0.9)"
   ]
  },
  {
   "cell_type": "code",
   "execution_count": 6,
   "metadata": {},
   "outputs": [
    {
     "name": "stdout",
     "output_type": "stream",
     "text": [
      "[1,  2000] loss: 1.449\n",
      "[1,  4000] loss: 0.266\n",
      "[1,  6000] loss: 0.163\n",
      "[2,  2000] loss: 0.121\n",
      "[2,  4000] loss: 0.102\n",
      "[2,  6000] loss: 0.089\n",
      "[3,  2000] loss: 0.076\n",
      "[3,  4000] loss: 0.070\n",
      "[3,  6000] loss: 0.066\n",
      "[4,  2000] loss: 0.054\n",
      "[4,  4000] loss: 0.051\n",
      "[4,  6000] loss: 0.059\n",
      "[5,  2000] loss: 0.049\n",
      "[5,  4000] loss: 0.043\n",
      "[5,  6000] loss: 0.042\n",
      "Training is done!\n"
     ]
    }
   ],
   "source": [
    "EPOCH = 5\n",
    "for epoch in range(EPOCH):\n",
    "    running_loss = 0\n",
    "    for i, data in enumerate(train_set, 0):\n",
    "        inputs, labels = data\n",
    "        optimizer.zero_grad()\n",
    "        outputs = net(inputs)\n",
    "        loss = criterion(outputs, labels)\n",
    "        #backpropagation\n",
    "        loss.backward()\n",
    "        #optimize the gradient\n",
    "        optimizer.step()\n",
    "        running_loss += loss.item()\n",
    "        if i % 2000 == 1999:\n",
    "            print('[%d, %5d] loss: %.3f' % (epoch + 1, i + 1, running_loss / 2000))\n",
    "            running_loss = 0\n",
    "print(\"Training is done!\")"
   ]
  },
  {
   "cell_type": "markdown",
   "metadata": {},
   "source": [
    "##### making a canvas to get user input"
   ]
  },
  {
   "cell_type": "code",
   "execution_count": 8,
   "metadata": {},
   "outputs": [
    {
     "name": "stdout",
     "output_type": "stream",
     "text": [
      "tensor([7])\n",
      "tensor([4])\n",
      "tensor([7])\n",
      "tensor([5])\n",
      "tensor([8])\n",
      "tensor([1])\n",
      "tensor([3])\n",
      "tensor([3])\n",
      "tensor([3])\n",
      "tensor([2])\n"
     ]
    }
   ],
   "source": [
    "canvas = np.ones((600, 600), dtype = \"uint8\") * 255\n",
    "canvas[100:500, 100:500] = 0\n",
    "start_point = None\n",
    "end_point = None\n",
    "is_drawing = False\n",
    "\n",
    "def draw(img, start_at, end_at):\n",
    "    cv2.line(img, start_at, end_at, 255, 15)\n",
    "\n",
    "def mouse_move(event, x, y, flags, params):\n",
    "    global start_point\n",
    "    global end_point\n",
    "    global canvas\n",
    "    global is_drawing\n",
    "    if event == cv2.EVENT_LBUTTONDOWN:\n",
    "        if is_drawing:\n",
    "            start_point = (x, y)\n",
    "    elif event == cv2.EVENT_MOUSEMOVE:\n",
    "        if is_drawing:\n",
    "            end_point = (x, y)\n",
    "            draw(canvas, start_point, end_point)\n",
    "            start_point = end_point\n",
    "    elif event == cv2.EVENT_LBUTTONUP:\n",
    "        is_drawing = False\n",
    "cv2.namedWindow(\"Draw a Number!\")\n",
    "cv2.setMouseCallback(\"Draw a Number!\", mouse_move)\n",
    "\n",
    "transform = transforms.Compose([transforms.ToTensor()])\n",
    "while(True):\n",
    "    cv2.imshow(\"Draw a Number!\", canvas)\n",
    "    key = cv2.waitKey(1) & 0xFF\n",
    "    if key == ord('q'):\n",
    "        break\n",
    "    elif key == ord('s'):\n",
    "        is_drawing = True\n",
    "    elif key == ord('c'):\n",
    "        canvas[100:500, 100:500] = 0\n",
    "    elif key == ord('p'):\n",
    "        image = canvas[100:500, 100:500]\n",
    "        image = cv2.resize(image, (28, 28))\n",
    "        image = transform(image)\n",
    "        image = image.unsqueeze(1)\n",
    "        outputs = net(image)\n",
    "        _, predicted = torch.max(outputs.data, 1)\n",
    "        print(predicted)\n",
    "cv2.destroyAllWindows()"
   ]
  },
  {
   "cell_type": "code",
   "execution_count": null,
   "metadata": {},
   "outputs": [],
   "source": []
  }
 ],
 "metadata": {
  "kernelspec": {
   "display_name": "Python 3.8.3 ('base')",
   "language": "python",
   "name": "python3"
  },
  "language_info": {
   "codemirror_mode": {
    "name": "ipython",
    "version": 3
   },
   "file_extension": ".py",
   "mimetype": "text/x-python",
   "name": "python",
   "nbconvert_exporter": "python",
   "pygments_lexer": "ipython3",
   "version": "3.8.3"
  },
  "orig_nbformat": 4,
  "vscode": {
   "interpreter": {
    "hash": "0bb88254342833f1b315205eeae7033c87d0099e9eda09dfc1a6811f81088ab7"
   }
  }
 },
 "nbformat": 4,
 "nbformat_minor": 2
}
